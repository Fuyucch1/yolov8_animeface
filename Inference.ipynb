{
 "cells": [
  {
   "cell_type": "markdown",
   "source": [
    "# Inference using trained model"
   ],
   "metadata": {
    "collapsed": false
   },
   "id": "3fdae8c14b6c1b94"
  },
  {
   "cell_type": "code",
   "outputs": [],
   "source": [
    "from ultralytics import YOLO\n",
    "\n",
    "yolov8_animeface = YOLO('./yolov8x6-animeface.pt')\n",
    "yolov8_animeface.predict('./demo/comparison/', save=True, conf=0.3, iou=0.5)"
   ],
   "metadata": {
    "collapsed": false
   },
   "id": "b5ed9c499d49f4bb",
   "execution_count": 0
  }
 ],
 "metadata": {
  "kernelspec": {
   "display_name": "Python 3",
   "language": "python",
   "name": "python3"
  },
  "language_info": {
   "codemirror_mode": {
    "name": "ipython",
    "version": 2
   },
   "file_extension": ".py",
   "mimetype": "text/x-python",
   "name": "python",
   "nbconvert_exporter": "python",
   "pygments_lexer": "ipython2",
   "version": "2.7.6"
  }
 },
 "nbformat": 4,
 "nbformat_minor": 5
}
