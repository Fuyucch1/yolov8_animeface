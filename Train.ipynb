{
 "cells": [
  {
   "cell_type": "markdown",
   "source": [
    "# Yolov8_Animeface\n",
    "\n",
    "## A model trained to detect anime faces\n",
    "\n",
    "We're using comet-ml to monitor the training, and the ultralytics library to download the model. Dataset is made on roboflow and is stored under the \"dataset\" subfolder of the project.\n",
    "\n",
    "Dataset not provided in this document.\n"
   ],
   "metadata": {
    "collapsed": false
   },
   "id": "48dd107447991f7c"
  },
  {
   "cell_type": "markdown",
   "source": [
    "## Import Monitoring Services"
   ],
   "metadata": {
    "collapsed": false
   },
   "id": "e9b2356cfd0a507"
  },
  {
   "cell_type": "code",
   "execution_count": null,
   "id": "initial_id",
   "metadata": {
    "collapsed": true
   },
   "outputs": [],
   "source": [
    "from comet_ml import Experiment\n",
    "\n",
    "# Don't turn the code log on if you plan on pasting your api key here.\n",
    "\n",
    "experiment = Experiment(\n",
    "    api_key=\"\",\n",
    "    project_name=\"\",\n",
    "    workspace=\"\",\n",
    ")\n"
   ]
  },
  {
   "cell_type": "markdown",
   "source": [
    "## Train Model"
   ],
   "metadata": {
    "collapsed": false
   },
   "id": "d1af15c006ec196f"
  },
  {
   "cell_type": "code",
   "outputs": [],
   "source": [
    "import torch\n",
    "# Just making sure cuda is available, if not, check your driver installation.\n",
    "torch.cuda.is_available()"
   ],
   "metadata": {
    "collapsed": false
   },
   "id": "ee0075b95cddca6b",
   "execution_count": null
  },
  {
   "cell_type": "code",
   "outputs": [],
   "source": [
    "from ultralytics import YOLO\n",
    "\n",
    "# Import the desired model. Look up ultralytics' docs to find out which one you should use. We will use the basic yolov8x here.\n",
    "yolov8_animeface = YOLO('yolov8x6.pt')\n",
    "\n",
    "results = yolov8_animeface.train(\n",
    "    epochs=300,\n",
    "    data='./dataset/data.yaml',\n",
    "    imgsz=1280, # Feel free to tweak imgsz, but be careful as it will be more computally intensive if you put a bigger size.\n",
    "    batch=16, # Tweak the batch size according to your GPU.\n",
    "    name='yolov8x6-animeface', # Same as your comet project name\n",
    "    project='yolov8x6-animeface', # Same as your comet project name\n",
    "    device=[0], # Helpful if your GPU isn't recognized automatically.\n",
    "    patience=0, # Tweak this as needed\n",
    "    resume=False,\n",
    ")"
   ],
   "metadata": {
    "collapsed": false
   },
   "id": "63b3e60fca2c8bc8",
   "execution_count": null
  },
  {
   "cell_type": "markdown",
   "source": [
    "Few important points :\n",
    "\n",
    "We're using the **default SGD optimizer** with automatic values. Adam and RMSProp have both been tried during training but weren't as good as SGD. They were mediocre, even when fidgeting with hyper-parameters.\n",
    "\n",
    "Here is something we witness when using early stopping: \n",
    "- The model detects correctly, but it lacks confidence.\n",
    "- Metrics are high (0.57 mAP50-95 on val set) but confidence is around 0.5 on every detection.\n",
    "Here is what happens when the model trains 300 epochs : \n",
    "- Metrics get lower values and converge around mAP50-95 0.52, but confidence gets around 0.8 on every detection.\n",
    "\n",
    "**If you have to stop the training for whatever reason and want to resume training :**\n",
    "1. Replace path in line 4 by the path of the `last.pt` weight previously calculated.\n",
    "2. Edit resume parameter to `resume=True,` inside the training arguments. Be aware that if you keep `resume=True` and try to train a **new** model, it will give you an unrelated CUDA error (Invalid CUDA requested).\n"
   ],
   "metadata": {
    "collapsed": false
   },
   "id": "5b06a6c23647fc02"
  },
  {
   "cell_type": "code",
   "outputs": [],
   "source": [
    "# End comet monitoring\n",
    "experiment.end()"
   ],
   "metadata": {
    "collapsed": false
   },
   "id": "d067119a7c92d3a6",
   "execution_count": null
  },
  {
   "cell_type": "markdown",
   "source": [
    "## Evaluation on test subset\n",
    "\n",
    "If you've split your dataset properly, you can now do inference on your test sub-dataset."
   ],
   "metadata": {
    "collapsed": false
   },
   "id": "9435cebed16c770c"
  },
  {
   "cell_type": "code",
   "outputs": [],
   "source": [
    "eval_model = YOLO('./yolov8x6-animeface/yolov8x6-animeface/weights/last.pt') # Adapt to your own path\n",
    "\n",
    "metrics = eval_model.val(\n",
    "    data='./datasets/data.yaml',\n",
    "    split='test'\n",
    ")"
   ],
   "metadata": {
    "collapsed": false
   },
   "id": "332a462c8d174a11",
   "execution_count": null
  }
 ],
 "metadata": {
  "kernelspec": {
   "display_name": "Python 3",
   "language": "python",
   "name": "python3"
  },
  "language_info": {
   "codemirror_mode": {
    "name": "ipython",
    "version": 2
   },
   "file_extension": ".py",
   "mimetype": "text/x-python",
   "name": "python",
   "nbconvert_exporter": "python",
   "pygments_lexer": "ipython2",
   "version": "2.7.6"
  }
 },
 "nbformat": 4,
 "nbformat_minor": 5
}
