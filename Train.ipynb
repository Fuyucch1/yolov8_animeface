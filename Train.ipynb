{
 "cells": [
  {
   "cell_type": "markdown",
   "source": [
    "# Yolov8_Animeface\n",
    "\n",
    "## A model trained to detect anime faces\n",
    "\n",
    "We're using comet-ml to monitor the training, and the ultralytics library to download the model. Dataset is made on roboflow and is stored under the \"dataset\" subfolder of the project.\n",
    "\n",
    "Dataset not provided in this document.\n"
   ],
   "metadata": {
    "collapsed": false
   },
   "id": "48dd107447991f7c"
  },
  {
   "cell_type": "markdown",
   "source": [
    "## Import Monitoring Services"
   ],
   "metadata": {
    "collapsed": false
   },
   "id": "e9b2356cfd0a507"
  },
  {
   "cell_type": "code",
   "execution_count": null,
   "id": "initial_id",
   "metadata": {
    "collapsed": true
   },
   "outputs": [],
   "source": [
    "from comet_ml import Experiment\n",
    "\n",
    "# Don't turn the code log on if you plan on pasting your api key here.\n",
    "\n",
    "experiment = Experiment(\n",
    "    api_key=\"\", # Your API key\n",
    "    project_name=\"\",\n",
    "    workspace=\"\" # Your workspace as defined in comet-ml\n",
    ")\n"
   ]
  },
  {
   "cell_type": "markdown",
   "source": [
    "## Train Model"
   ],
   "metadata": {
    "collapsed": false
   },
   "id": "d1af15c006ec196f"
  },
  {
   "cell_type": "code",
   "outputs": [],
   "source": [
    "import torch\n",
    "# Just making sure cuda is available, if not, check your driver installation.\n",
    "torch.cuda.is_available()"
   ],
   "metadata": {
    "collapsed": false
   },
   "id": "ee0075b95cddca6b",
   "execution_count": null
  },
  {
   "cell_type": "code",
   "outputs": [],
   "source": [
    "from ultralytics import YOLO\n",
    "\n",
    "# Import the desired model. Look up ultralytics' docs to find out which one you should use. We will use the basic yolov8x here.\n",
    "yolov8_animeface = YOLO('yolov8x.pt')\n",
    "\n",
    "results = yolov8_animeface.train(\n",
    "    data='./dataset/data.yaml',\n",
    "    epochs=200,\n",
    "    imgsz=640, # Feel free to tweak imgsz, but be careful as it will be more computally intensive if you put a bigger size.\n",
    "    batch=16, # Tweak the batch size according to your GPU.\n",
    "    name='', # Same as your comet project name\n",
    "    project='', # Same as your comet project name\n",
    "    single_cls=True, # If you plan on detecting more than faces, remove this line.\n",
    "    device=[0], # Helpful if your GPU isn't recognized automatically.\n",
    "    patience=20, # Tweak this as needed\n",
    ")"
   ],
   "metadata": {
    "collapsed": false,
    "is_executing": true
   },
   "id": "63b3e60fca2c8bc8",
   "execution_count": null
  },
  {
   "cell_type": "markdown",
   "source": [
    "Few important points :\n",
    "\n",
    "We're using the **default SGD optimizer** with automatic values. Adam and RMSProp have both been tried during training but weren't as good as SGD. They were mediocre, even when fidgeting with hyper-parameters.\n",
    "\n",
    "I have never done more than 100 epoch as my models usually early stop around the ~50th epoch.\n",
    "\n",
    "**If you have to stop the training for whatever reason and want to resume training :**\n",
    "1. Replace path in line 4 by the path of the `last.pt` weight previously calculated.\n",
    "2. Add `resume=True,` inside the training arguments. Be aware that if you keep `resume=True` and try to train a **new** model, it will give you an unrelated CUDA error (Invalid CUDA requested).\n"
   ],
   "metadata": {
    "collapsed": false
   },
   "id": "5b06a6c23647fc02"
  },
  {
   "cell_type": "code",
   "outputs": [],
   "source": [
    "# End comet monitoring\n",
    "experiment.end()"
   ],
   "metadata": {
    "collapsed": false
   },
   "id": "d067119a7c92d3a6",
   "execution_count": null
  },
  {
   "cell_type": "markdown",
   "source": [
    "## Evaluation on test subset\n",
    "\n",
    "If you've split your dataset properly, you can now do inference on your test sub-dataset."
   ],
   "metadata": {
    "collapsed": false
   },
   "id": "9435cebed16c770c"
  },
  {
   "cell_type": "code",
   "outputs": [],
   "source": [
    "eval_model = YOLO('./project/name/weights/best.pt') # Adapt to your own path\n",
    "\n",
    "metrics = eval_model.val(\n",
    "    data='./dataset/data.yaml',\n",
    "    split='test'\n",
    ")"
   ],
   "metadata": {
    "collapsed": false
   },
   "id": "332a462c8d174a11",
   "execution_count": null
  },
  {
   "cell_type": "markdown",
   "source": [
    "## Plot results\n",
    "\n",
    "todo"
   ],
   "metadata": {
    "collapsed": false
   },
   "id": "f6418623383ce5f"
  }
 ],
 "metadata": {
  "kernelspec": {
   "display_name": "Python 3",
   "language": "python",
   "name": "python3"
  },
  "language_info": {
   "codemirror_mode": {
    "name": "ipython",
    "version": 2
   },
   "file_extension": ".py",
   "mimetype": "text/x-python",
   "name": "python",
   "nbconvert_exporter": "python",
   "pygments_lexer": "ipython2",
   "version": "2.7.6"
  }
 },
 "nbformat": 4,
 "nbformat_minor": 5
}
